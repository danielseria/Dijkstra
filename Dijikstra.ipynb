{
 "cells": [
  {
   "cell_type": "code",
   "execution_count": 2,
   "id": "dc058ae9-b7ac-4d33-9873-0ebf44bc1b68",
   "metadata": {},
   "outputs": [],
   "source": [
    "import csv\n",
    "from csv import writer\n",
    "import pandas as pd\n",
    "import googlemaps\n",
    "from itertools import tee\n",
    "import folium\n",
    "import numpy as np\n",
    "import sys"
   ]
  },
  {
   "cell_type": "markdown",
   "id": "a9a11f21",
   "metadata": {},
   "source": [
    "Define global variable"
   ]
  },
  {
   "cell_type": "code",
   "execution_count": 3,
   "id": "533b89e5",
   "metadata": {},
   "outputs": [],
   "source": [
    "NO_PARENT = -1"
   ]
  },
  {
   "cell_type": "markdown",
   "id": "0902b21d",
   "metadata": {},
   "source": [
    "# Main Function"
   ]
  },
  {
   "cell_type": "code",
   "execution_count": 4,
   "id": "89bd76ee-6fce-4813-a47b-ac46d457b15c",
   "metadata": {},
   "outputs": [],
   "source": [
    "def dijkstra(adjacency_matrix, start_vertex):\n",
    "    n_vertices = len(adjacency_matrix[0])\n",
    "\n",
    "    # shortest_distances[i] will hold the\n",
    "    # shortest distance from start_vertex to i\n",
    "    shortest_distances = [sys.maxsize] * n_vertices #sys.maxsize == infinit, the largest possible int number in pytohn\n",
    "\n",
    "    # added[i] will true if vertex i is included in shortest path tree\n",
    "        # or shortest distance from start_vertex to i is finalized\n",
    "    added = [False] * n_vertices # this will create a list with False\n",
    "\n",
    "    # Initialize all distances as INFINITE \n",
    "    # and added[] as false\n",
    "    for vertex_index in range(n_vertices):\n",
    "        shortest_distances[vertex_index] = sys.maxsize\n",
    "        added[vertex_index] = False\n",
    "\n",
    "    # Distance of source vertex from\n",
    "    # itself is always 0\n",
    "    shortest_distances[start_vertex] = 0\n",
    "\n",
    "    # Parent array to store shortest\n",
    "    # path tree\n",
    "    parents = [-1] * n_vertices\n",
    "\n",
    "    # The starting vertex does not\n",
    "    # have a parent\n",
    "    # initially NO_PARENT = -1, gloval variable\n",
    "    parents[start_vertex] = NO_PARENT\n",
    "    \n",
    "    # Find shortest path for all\n",
    "    # vertices\n",
    "    for i in range(1, n_vertices):\n",
    "        # Pick the minimum distance vertex from the set of vertices not yet processed. \n",
    "        # nearest_vertex is always equal to start_vertex in first iteration.\n",
    "        nearest_vertex = -1\n",
    "        shortest_distance = sys.maxsize\n",
    "        for vertex_index in range(n_vertices):\n",
    "            if not added[vertex_index] and shortest_distances[vertex_index] < shortest_distance:\n",
    "                nearest_vertex = vertex_index\n",
    "                shortest_distance = shortest_distances[vertex_index]\n",
    "\n",
    "        # Mark the picked vertex as processed\n",
    "        added[nearest_vertex] = True\n",
    "\n",
    "        # Update dist value of the adjacent vertices of the picked vertex.\n",
    "        for vertex_index in range(n_vertices):\n",
    "            edge_distance = adjacency_matrix[nearest_vertex][vertex_index]\n",
    "            # Dijiksta's algorithm doens't work for negative values therefore edge_distance>0\n",
    "            if edge_distance > 0 and shortest_distance + edge_distance < shortest_distances[vertex_index]:\n",
    "                parents[vertex_index] = nearest_vertex\n",
    "                shortest_distances[vertex_index] = shortest_distance + edge_distance\n",
    "\n",
    "    print_solution(start_vertex, shortest_distances, parents)\n"
   ]
  },
  {
   "cell_type": "markdown",
   "id": "0906d0b3",
   "metadata": {},
   "source": [
    "# Function: print_solution "
   ]
  },
  {
   "cell_type": "code",
   "execution_count": 5,
   "id": "4d30e788-064b-49fa-a2f8-38e8d7989d3e",
   "metadata": {},
   "outputs": [],
   "source": [
    "# A utility function to print\n",
    "# the constructed distances\n",
    "# array and shortest paths\n",
    "def print_solution(start_vertex, distances, parents):\n",
    "    n_vertices = len(distances)\n",
    "    print(\"Vertex\\t\\t Distance\\t\\tPath\")\n",
    "    \n",
    "    for vertex_index in range(n_vertices):\n",
    "        if vertex_index != start_vertex:\n",
    "            print(\"\\n\", start_vertex, \"->\", vertex_index, \"\\t\\t\", distances[vertex_index], \"\\t\\t\", end=\"\")\n",
    "            print_path(vertex_index, parents)\n"
   ]
  },
  {
   "cell_type": "markdown",
   "id": "f2bc0491",
   "metadata": {},
   "source": [
    "# Function: print_path"
   ]
  },
  {
   "cell_type": "code",
   "execution_count": 6,
   "id": "9e563fb9-97ee-4c34-a3eb-cacba45ebc05",
   "metadata": {},
   "outputs": [],
   "source": [
    "# Function to print shortest path\n",
    "# from source to current_vertex\n",
    "# using parents array\n",
    "def print_path(current_vertex, parents):\n",
    "    # Base case : Source node has been processed\n",
    "    if current_vertex == NO_PARENT:\n",
    "        return\n",
    "    print_path(parents[current_vertex], parents)\n",
    "    print(current_vertex, end=\" \")"
   ]
  },
  {
   "cell_type": "markdown",
   "id": "bb81002d",
   "metadata": {},
   "source": [
    "# Line needed, don't know why yet"
   ]
  },
  {
   "cell_type": "code",
   "execution_count": 7,
   "id": "1f3c95dc",
   "metadata": {},
   "outputs": [],
   "source": [
    "# Driver code\n"
   ]
  },
  {
   "cell_type": "markdown",
   "id": "9576ee6b",
   "metadata": {},
   "source": [
    "# Input graph as matrix. Hard Coded"
   ]
  },
  {
   "cell_type": "code",
   "execution_count": 8,
   "id": "540b4027-0fdb-4c3e-94b1-f2d1c5bcd57f",
   "metadata": {},
   "outputs": [
    {
     "name": "stdout",
     "output_type": "stream",
     "text": [
      "adjacency_matrix_hardcoded:\n",
      "[[0, 4, 0, 0, 0, 0, 0, 8, 0], [4, 0, 8, 0, 0, 0, 0, 11, 0], [0, 8, 0, 7, 0, 4, 0, 0, 2], [0, 0, 7, 0, 9, 14, 0, 0, 0], [0, 0, 0, 9, 0, 10, 0, 0, 0], [0, 0, 4, 14, 10, 0, 2, 0, 0], [0, 0, 0, 0, 0, 2, 0, 1, 6], [8, 11, 0, 0, 0, 0, 1, 0, 7], [0, 0, 2, 0, 0, 0, 6, 7, 0]]\n",
      "Len of matrix: 9\n"
     ]
    }
   ],
   "source": [
    " if __name__ == '__main__':\n",
    "    adjacency_matrix_hardcoded = [    [0, 4, 0, 0, 0, 0, 0, 8, 0],\n",
    "                            [4, 0, 8, 0, 0, 0, 0, 11, 0],\n",
    "                            [0, 8, 0, 7, 0, 4, 0, 0, 2],\n",
    "                            [0, 0, 7, 0, 9, 14, 0, 0, 0],\n",
    "                            [0, 0, 0, 9, 0, 10, 0, 0, 0],\n",
    "                            [0, 0, 4, 14, 10, 0, 2, 0, 0],\n",
    "                            [0, 0, 0, 0, 0, 2, 0, 1, 6],\n",
    "                            [8, 11, 0, 0, 0, 0, 1, 0, 7],\n",
    "                            [0, 0, 2, 0, 0, 0, 6, 7, 0]]\n",
    "    print(\"adjacency_matrix_hardcoded:\")\n",
    "    print(adjacency_matrix_hardcoded)\n",
    "    print(f\"Len of matrix: {len(adjacency_matrix_hardcoded[0])}\")\n",
    "\n"
   ]
  },
  {
   "cell_type": "markdown",
   "id": "a1d3bb4c",
   "metadata": {},
   "source": [
    "# Input graph as matrix. Import graph via csv file"
   ]
  },
  {
   "cell_type": "code",
   "execution_count": 9,
   "id": "a8ba346f",
   "metadata": {},
   "outputs": [
    {
     "name": "stdout",
     "output_type": "stream",
     "text": [
      "adjacency_matrix_csv:\n",
      "[[0, 4, 0, 0, 0, 0, 0, 30, 0], [4, 0, 8, 0, 0, 0, 0, 11, 0], [0, 8, 0, 7, 0, 4, 0, 0, 2], [0, 0, 7, 0, 9, 14, 0, 0, 0], [0, 0, 0, 9, 0, 10, 0, 0, 0], [0, 0, 4, 14, 10, 0, 2, 0, 0], [0, 0, 0, 0, 0, 2, 0, 1, 6], [8, 11, 0, 0, 0, 0, 1, 0, 7], [0, 0, 2, 0, 0, 0, 6, 7, 0]]\n",
      "Len of matrix: 9\n"
     ]
    }
   ],
   "source": [
    "df = pd.read_csv('adjcent.csv', delimiter=',')\n",
    "df = pd.read_csv('adjcent.csv', header=None, delimiter=',')\n",
    "\n",
    "# User list comprehension to create a list of lists from Dataframe rows\n",
    "adjacency_matrix_csv = [list(row) for row in df.values]\n",
    "\n",
    "# IF headers, please un-comment the below\n",
    "# Insert Column names as first list in list of lists\n",
    "#list_of_rows.insert(0, df.columns.to_list()) # comment this line if there are headers in the file\n",
    "\n",
    "print(\"adjacency_matrix_csv:\")\n",
    "print(adjacency_matrix_csv)\n",
    "print(f\"Len of matrix: {len(adjacency_matrix_csv[0])}\")"
   ]
  },
  {
   "cell_type": "markdown",
   "id": "0c24cb6b",
   "metadata": {},
   "source": [
    "# Calling the main function; Start node is 0 "
   ]
  },
  {
   "cell_type": "code",
   "execution_count": 10,
   "id": "bcd03db2-be35-411d-82e4-c5a683d08a0a",
   "metadata": {},
   "outputs": [
    {
     "name": "stdout",
     "output_type": "stream",
     "text": [
      "Vertex\t\t Distance\t\tPath\n",
      "\n",
      " 0 -> 1 \t\t 4 \t\t0 1 \n",
      " 0 -> 2 \t\t 12 \t\t0 1 2 \n",
      " 0 -> 3 \t\t 19 \t\t0 1 2 3 \n",
      " 0 -> 4 \t\t 21 \t\t0 7 6 5 4 \n",
      " 0 -> 5 \t\t 11 \t\t0 7 6 5 \n",
      " 0 -> 6 \t\t 9 \t\t0 7 6 \n",
      " 0 -> 7 \t\t 8 \t\t0 7 \n",
      " 0 -> 8 \t\t 14 \t\t0 1 2 8 \n",
      "---\n",
      "\n",
      "Vertex\t\t Distance\t\tPath\n",
      "\n",
      " 0 -> 1 \t\t 4 \t\t0 1 \n",
      " 0 -> 2 \t\t 12 \t\t0 1 2 \n",
      " 0 -> 3 \t\t 19 \t\t0 1 2 3 \n",
      " 0 -> 4 \t\t 26 \t\t0 1 2 5 4 \n",
      " 0 -> 5 \t\t 16 \t\t0 1 2 5 \n",
      " 0 -> 6 \t\t 16 \t\t0 1 7 6 \n",
      " 0 -> 7 \t\t 15 \t\t0 1 7 \n",
      " 0 -> 8 \t\t 14 \t\t0 1 2 8 \n",
      "---\n",
      "\n"
     ]
    }
   ],
   "source": [
    "dijkstra(adjacency_matrix_hardcoded, 0)\n",
    "print(\"\\n---\\n\")\n",
    "dijkstra(adjacency_matrix_csv, 0)\n",
    "print(\"\\n---\\n\")"
   ]
  },
  {
   "cell_type": "markdown",
   "id": "27b3c11e-54cd-43ae-a842-adc78694d0f7",
   "metadata": {},
   "source": [
    "# Calling the function; Start node is 1 "
   ]
  },
  {
   "cell_type": "code",
   "execution_count": 11,
   "id": "25fd5f25-a282-4794-853e-c01d984a2cdf",
   "metadata": {},
   "outputs": [
    {
     "name": "stdout",
     "output_type": "stream",
     "text": [
      "Vertex\t\t Distance\t\tPath\n",
      "\n",
      " 1 -> 0 \t\t 4 \t\t1 0 \n",
      " 1 -> 2 \t\t 8 \t\t1 2 \n",
      " 1 -> 3 \t\t 15 \t\t1 2 3 \n",
      " 1 -> 4 \t\t 22 \t\t1 2 5 4 \n",
      " 1 -> 5 \t\t 12 \t\t1 2 5 \n",
      " 1 -> 6 \t\t 12 \t\t1 7 6 \n",
      " 1 -> 7 \t\t 11 \t\t1 7 \n",
      " 1 -> 8 \t\t 10 \t\t1 2 8 \n",
      "---\n",
      "\n",
      "Vertex\t\t Distance\t\tPath\n",
      "\n",
      " 1 -> 0 \t\t 4 \t\t1 0 \n",
      " 1 -> 2 \t\t 8 \t\t1 2 \n",
      " 1 -> 3 \t\t 15 \t\t1 2 3 \n",
      " 1 -> 4 \t\t 22 \t\t1 2 5 4 \n",
      " 1 -> 5 \t\t 12 \t\t1 2 5 \n",
      " 1 -> 6 \t\t 12 \t\t1 7 6 \n",
      " 1 -> 7 \t\t 11 \t\t1 7 \n",
      " 1 -> 8 \t\t 10 \t\t1 2 8 \n",
      "---\n",
      "\n"
     ]
    }
   ],
   "source": [
    "dijkstra(adjacency_matrix_hardcoded, 1)\n",
    "print(\"\\n---\\n\")\n",
    "dijkstra(adjacency_matrix_csv, 1)\n",
    "print(\"\\n---\\n\")"
   ]
  },
  {
   "cell_type": "markdown",
   "id": "6ed3dcfa-a298-4940-bb44-1555b59ff65c",
   "metadata": {},
   "source": [
    "# Testing & Learning. Not important for functionality"
   ]
  },
  {
   "cell_type": "code",
   "execution_count": 12,
   "id": "9cd58d45-490c-4c22-9c81-33cd3b132ca4",
   "metadata": {},
   "outputs": [
    {
     "name": "stdout",
     "output_type": "stream",
     "text": [
      "[False, False, False, False, False, False, False]\n"
     ]
    }
   ],
   "source": [
    "added = [False] * 7\n",
    "print(added)"
   ]
  },
  {
   "cell_type": "code",
   "execution_count": 13,
   "id": "97798dfb-7a92-4fe6-ad8a-fcdd13740265",
   "metadata": {},
   "outputs": [
    {
     "name": "stdout",
     "output_type": "stream",
     "text": [
      "[[4, 0, 8, 0, 0, 0, 0, 11, 0], [0, 8, 0, 7, 0, 4, 0, 0, 2], [0, 0, 7, 0, 9, 14, 0, 0, 0], [0, 0, 0, 9, 0, 10, 0, 0, 0], [0, 0, 4, 14, 10, 0, 2, 0, 0], [0, 0, 0, 0, 0, 2, 0, 1, 6], [8, 11, 0, 0, 0, 0, 1, 0, 7], [0, 0, 2, 0, 0, 0, 6, 7, 0]]\n",
      "[[0, 4, 0, 0, 0, 0, 0, 8, 0], [4, 0, 8, 0, 0, 0, 0, 11, 0], [0, 8, 0, 7, 0, 4, 0, 0, 2], [0, 0, 7, 0, 9, 14, 0, 0, 0], [0, 0, 0, 9, 0, 10, 0, 0, 0], [0, 0, 4, 14, 10, 0, 2, 0, 0], [0, 0, 0, 0, 0, 2, 0, 1, 6], [8, 11, 0, 0, 0, 0, 1, 0, 7], [0, 0, 2, 0, 0, 0, 6, 7, 0]]\n"
     ]
    }
   ],
   "source": [
    "import pandas as pd\n",
    "# Create a dataframe from csv\n",
    "df = pd.read_csv('adjcent.csv', delimiter=',')\n",
    "# User list comprehension to create a list of lists from Dataframe rows\n",
    "list_of_rows = [list(row) for row in df.values]\n",
    "# Insert Column names as first list in list of lists\n",
    "#list_of_rows.insert(0, df.columns.to_list()) # comment this line if there are headers in the file\n",
    "# Print list of lists i.e. rows\n",
    "#print(list_of_rows)\n",
    "distance_matrix_api=list_of_rows;\n",
    "print(distance_matrix_api)\n",
    "\n",
    "\n",
    "# Create a dataframe from csv\n",
    "df = pd.read_csv('adjcent - Copy.csv', header=None, delimiter=',')\n",
    "# User list comprehension to create a list of lists from Dataframe rows\n",
    "list_of_rows1 = [list(row) for row in df.values]\n",
    "# Insert Column names as first list in list of lists\n",
    "#list_of_rows.insert(0, df.columns.to_list()) # comment this line if there are headers in the file\n",
    "# Print list of lists i.e. rows\n",
    "#print(list_of_rows)\n",
    "distance_matrix_api1=list_of_rows1;\n",
    "print(distance_matrix_api1)"
   ]
  },
  {
   "cell_type": "code",
   "execution_count": null,
   "id": "258ce11a-11d7-45c1-afc7-8b2c0a74def0",
   "metadata": {},
   "outputs": [],
   "source": []
  },
  {
   "cell_type": "code",
   "execution_count": null,
   "id": "37bac7b9-50d5-4dcf-80ba-03682cd69f38",
   "metadata": {},
   "outputs": [],
   "source": []
  }
 ],
 "metadata": {
  "kernelspec": {
   "display_name": "Python 3 (ipykernel)",
   "language": "python",
   "name": "python3"
  },
  "language_info": {
   "codemirror_mode": {
    "name": "ipython",
    "version": 3
   },
   "file_extension": ".py",
   "mimetype": "text/x-python",
   "name": "python",
   "nbconvert_exporter": "python",
   "pygments_lexer": "ipython3",
   "version": "3.9.12"
  }
 },
 "nbformat": 4,
 "nbformat_minor": 5
}
